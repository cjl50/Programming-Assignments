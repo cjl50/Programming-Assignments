{
  "nbformat": 4,
  "nbformat_minor": 0,
  "metadata": {
    "colab": {
      "provenance": []
    },
    "kernelspec": {
      "name": "python3",
      "display_name": "Python 3"
    },
    "language_info": {
      "name": "python"
    }
  },
  "cells": [
    {
      "cell_type": "markdown",
      "source": [
        " # **Association rule mining**"
      ],
      "metadata": {
        "id": "NOXocpIZoCtj"
      }
    },
    {
      "cell_type": "code",
      "execution_count": 1,
      "metadata": {
        "id": "Ly-6kzVGn-RG"
      },
      "outputs": [],
      "source": [
        "# Import the packages\n",
        "import numpy as np"
      ]
    },
    {
      "cell_type": "code",
      "source": [
        "#load the transactions dataset\n",
        "import pandas as pd\n",
        "from mlxtend.preprocessing import TransactionEncoder\n",
        "from mlxtend.frequent_patterns import apriori, association_rules\n",
        "\n",
        "# Loading the data\n",
        "def load_dataset(path_to_data):\n",
        "    transactions = []\n",
        "    with open(path_to_data, 'r') as fid:\n",
        "        for line in fid:\n",
        "            # Splitting each line to get items in the transaction\n",
        "            transaction = line.strip().split(',')\n",
        "            transactions.append(transaction)\n",
        "    return transactions\n",
        "\n",
        "# Path to your data file\n",
        "path_to_data = \"transactions_data.txt\"\n",
        "dataset = load_dataset(path_to_data)\n",
        "print(\"Loaded Transactions:\")\n",
        "print(dataset)"
      ],
      "metadata": {
        "colab": {
          "base_uri": "https://localhost:8080/"
        },
        "id": "S0lhj-RQokTH",
        "outputId": "0ca5b600-9317-4120-815b-261aa4c8c66c"
      },
      "execution_count": 2,
      "outputs": [
        {
          "output_type": "stream",
          "name": "stdout",
          "text": [
            "Loaded Transactions:\n",
            "[['Lime', 'Queso', 'Salsa', 'Salt', 'Tortilla chips'], ['Ranch dip', 'Salsa', 'Tortilla chips'], ['Queso', 'Tortilla chips'], ['Potato chips', 'Ranch dip'], ['Salsa', 'Tortilla chips'], ['Queso', 'Salsa', 'Tortilla chips'], ['Pita chips', 'Ranch dip'], ['Guacamole', 'Tortilla chips'], ['Guacamole', 'Queso', 'Salsa', 'Tortilla chips'], ['Pita chips', 'Salsa']]\n"
          ]
        }
      ]
    },
    {
      "cell_type": "code",
      "source": [
        "# Transform the data to a format suitable for the apriori function\n",
        "te = TransactionEncoder()\n",
        "te_ary = te.fit(dataset).transform(dataset)\n",
        "df = pd.DataFrame(te_ary, columns=te.columns_)\n",
        "print(\"\\nDataFrame after Transaction Encoding:\")\n",
        "print(df.head())\n",
        "\n",
        "# Apply the apriori algorithm\n",
        "frequent_itemsets = apriori(df, min_support=0.2, use_colnames=True)\n",
        "print(\"\\nFrequent Itemsets:\")\n",
        "print(frequent_itemsets)\n",
        "\n",
        "# Generate the association rules\n",
        "rules = association_rules(frequent_itemsets, metric=\"confidence\", min_threshold=0.5)\n",
        "print(\"\\nAssociation Rules:\")\n",
        "print(rules)"
      ],
      "metadata": {
        "colab": {
          "base_uri": "https://localhost:8080/"
        },
        "id": "6im18ucHop9a",
        "outputId": "ff126848-64d0-4c95-d2cc-44f3e292381f"
      },
      "execution_count": 3,
      "outputs": [
        {
          "output_type": "stream",
          "name": "stdout",
          "text": [
            "\n",
            "DataFrame after Transaction Encoding:\n",
            "   Guacamole   Lime  Pita chips  Potato chips  Queso  Ranch dip  Salsa   Salt  \\\n",
            "0      False   True       False         False   True      False   True   True   \n",
            "1      False  False       False         False  False       True   True  False   \n",
            "2      False  False       False         False   True      False  False  False   \n",
            "3      False  False       False          True  False       True  False  False   \n",
            "4      False  False       False         False  False      False   True  False   \n",
            "\n",
            "   Tortilla chips  \n",
            "0            True  \n",
            "1            True  \n",
            "2            True  \n",
            "3           False  \n",
            "4            True  \n",
            "\n",
            "Frequent Itemsets:\n",
            "    support                        itemsets\n",
            "0       0.2                     (Guacamole)\n",
            "1       0.2                    (Pita chips)\n",
            "2       0.4                         (Queso)\n",
            "3       0.3                     (Ranch dip)\n",
            "4       0.6                         (Salsa)\n",
            "5       0.7                (Tortilla chips)\n",
            "6       0.2     (Tortilla chips, Guacamole)\n",
            "7       0.3                  (Salsa, Queso)\n",
            "8       0.4         (Tortilla chips, Queso)\n",
            "9       0.5         (Tortilla chips, Salsa)\n",
            "10      0.3  (Tortilla chips, Salsa, Queso)\n",
            "\n",
            "Association Rules:\n",
            "                antecedents              consequents  antecedent support  \\\n",
            "0               (Guacamole)         (Tortilla chips)                 0.2   \n",
            "1                   (Salsa)                  (Queso)                 0.6   \n",
            "2                   (Queso)                  (Salsa)                 0.4   \n",
            "3          (Tortilla chips)                  (Queso)                 0.7   \n",
            "4                   (Queso)         (Tortilla chips)                 0.4   \n",
            "5          (Tortilla chips)                  (Salsa)                 0.7   \n",
            "6                   (Salsa)         (Tortilla chips)                 0.6   \n",
            "7   (Tortilla chips, Salsa)                  (Queso)                 0.5   \n",
            "8   (Tortilla chips, Queso)                  (Salsa)                 0.4   \n",
            "9            (Salsa, Queso)         (Tortilla chips)                 0.3   \n",
            "10                  (Salsa)  (Tortilla chips, Queso)                 0.6   \n",
            "11                  (Queso)  (Tortilla chips, Salsa)                 0.4   \n",
            "\n",
            "    consequent support  support  confidence      lift  leverage  conviction  \\\n",
            "0                  0.7      0.2    1.000000  1.428571      0.06         inf   \n",
            "1                  0.4      0.3    0.500000  1.250000      0.06         1.2   \n",
            "2                  0.6      0.3    0.750000  1.250000      0.06         1.6   \n",
            "3                  0.4      0.4    0.571429  1.428571      0.12         1.4   \n",
            "4                  0.7      0.4    1.000000  1.428571      0.12         inf   \n",
            "5                  0.6      0.5    0.714286  1.190476      0.08         1.4   \n",
            "6                  0.7      0.5    0.833333  1.190476      0.08         1.8   \n",
            "7                  0.4      0.3    0.600000  1.500000      0.10         1.5   \n",
            "8                  0.6      0.3    0.750000  1.250000      0.06         1.6   \n",
            "9                  0.7      0.3    1.000000  1.428571      0.09         inf   \n",
            "10                 0.4      0.3    0.500000  1.250000      0.06         1.2   \n",
            "11                 0.5      0.3    0.750000  1.500000      0.10         2.0   \n",
            "\n",
            "    zhangs_metric  \n",
            "0        0.375000  \n",
            "1        0.500000  \n",
            "2        0.333333  \n",
            "3        1.000000  \n",
            "4        0.500000  \n",
            "5        0.533333  \n",
            "6        0.400000  \n",
            "7        0.666667  \n",
            "8        0.333333  \n",
            "9        0.428571  \n",
            "10       0.500000  \n",
            "11       0.555556  \n"
          ]
        },
        {
          "output_type": "stream",
          "name": "stderr",
          "text": [
            "/usr/local/lib/python3.10/dist-packages/ipykernel/ipkernel.py:283: DeprecationWarning: `should_run_async` will not call `transform_cell` automatically in the future. Please pass the result to `transformed_cell` argument and any exception that happen during thetransform in `preprocessing_exc_tuple` in IPython 7.17 and above.\n",
            "  and should_run_async(code)\n"
          ]
        }
      ]
    }
  ]
}