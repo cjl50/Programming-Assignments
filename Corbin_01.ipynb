{
  "cells": [
    {
      "cell_type": "markdown",
      "metadata": {
        "id": "p1BVxPUmklTE"
      },
      "source": [
        "1. List basics"
      ]
    },
    {
      "cell_type": "code",
      "execution_count": 1,
      "metadata": {
        "colab": {
          "base_uri": "https://localhost:8080/"
        },
        "id": "tQn60ESqiCm3",
        "outputId": "2b85d2cf-322e-43f0-f1dd-86efe7c41033"
      },
      "outputs": [
        {
          "name": "stdout",
          "output_type": "stream",
          "text": [
            "['lilly', 'rose', 'daisy']\n",
            "['Azalea', 'Dahlia']\n",
            "['lilly', 'rose', 'daisy', 'Azalea', 'Dahlia']\n",
            "['lilly', 'rose', 'daisy', 'Azalea', 'Dahlia', 'Iris']\n",
            "['lilly', 'Iris', 'daisy', 'Azalea', 'Dahlia', 'Iris']\n",
            "['lilly', 'Iris', 'Azalea', 'Dahlia', 'Iris']\n"
          ]
        }
      ],
      "source": [
        "# Inputs\n",
        "myFlower1 = input()\n",
        "myFlower2 = input()\n",
        "myFlower3 = input()\n",
        "\n",
        "yourFlower1 = input()\n",
        "yourFlower2 = input()\n",
        "\n",
        "theirFlower = input()\n",
        "\n",
        "# Define myList containing myFlower1, myFlower2, and myFlower3 in that order\n",
        "myList = [myFlower1, myFlower2, myFlower3]\n",
        "print(myList)\n",
        "\n",
        "# Define yourList containing yourFlower1 and yourFlower2 in that order\n",
        "yourList = [yourFlower1, yourFlower2]\n",
        "print(yourList)\n",
        "\n",
        "# Define ourList by concatenating myList and yourList\n",
        "ourList = myList + yourList\n",
        "print(ourList)\n",
        "\n",
        "# Append theirFlower to the end of ourList\n",
        "ourList.append(theirFlower)\n",
        "print(ourList)\n",
        "\n",
        "# Replace myFlower2 in ourList with theirFlower\n",
        "# myFlower2 is at index 1 in myList, so it will be at the same position in ourList\n",
        "ourList[1] = theirFlower\n",
        "print(ourList)\n",
        "\n",
        "# Remove the third element of ourList\n",
        "# The third element has an index of 2\n",
        "del ourList[2]\n",
        "print(ourList)\n"
      ]
    },
    {
      "cell_type": "markdown",
      "metadata": {
        "id": "zCH6kS0okv6d"
      },
      "source": [
        "2. Set Basics"
      ]
    },
    {
      "cell_type": "code",
      "execution_count": null,
      "metadata": {
        "colab": {
          "base_uri": "https://localhost:8080/"
        },
        "id": "iCq3g0aNjfhs",
        "outputId": "555b349e-3895-4c83-8392-0987d05d7e08"
      },
      "outputs": [
        {
          "name": "stdout",
          "output_type": "stream",
          "text": [
            "plum\n",
            "cherry\n",
            "tangarine\n",
            "apple\n",
            "grapee\n",
            "cucumber\n",
            "['cherry', 'plum', 'tangarine']\n",
            "['cherry', 'cucumber', 'plum', 'tangarine']\n",
            "[]\n",
            "['cherry', 'cucumber', 'tangarine']\n"
          ]
        }
      ],
      "source": [
        "# Inputs\n",
        "myFruit1 = input()\n",
        "myFruit2 = input()\n",
        "myFruit3 = input()\n",
        "\n",
        "yourFruit1 = input()\n",
        "yourFruit2 = input()\n",
        "\n",
        "theirFruit = input()\n",
        "\n",
        "# Define a set, fruits, containing myFruit1, myFruit2, and myFruit3\n",
        "fruits = {myFruit1, myFruit2, myFruit3}\n",
        "print(sorted(fruits))\n",
        "\n",
        "# Add theirFruit to fruits\n",
        "fruits.add(theirFruit)\n",
        "print(sorted(fruits))\n",
        "\n",
        "# Find the intersection of fruits and the set containing yourFruit1 and yourFruit2\n",
        "fruitsInter = fruits.intersection({yourFruit1, yourFruit2})\n",
        "print(sorted(fruitsInter))\n",
        "\n",
        "# Remove myFruit1 from fruits\n",
        "fruits.discard(myFruit1)\n",
        "print(sorted(fruits))\n"
      ]
    }
  ],
  "metadata": {
    "colab": {
      "provenance": []
    },
    "kernelspec": {
      "display_name": "Python 3",
      "name": "python3"
    },
    "language_info": {
      "codemirror_mode": {
        "name": "ipython",
        "version": 3
      },
      "file_extension": ".py",
      "mimetype": "text/x-python",
      "name": "python",
      "nbconvert_exporter": "python",
      "pygments_lexer": "ipython3",
      "version": "3.12.5"
    }
  },
  "nbformat": 4,
  "nbformat_minor": 0
}
