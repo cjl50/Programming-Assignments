{
  "nbformat": 4,
  "nbformat_minor": 0,
  "metadata": {
    "colab": {
      "provenance": []
    },
    "kernelspec": {
      "name": "python3",
      "display_name": "Python 3"
    },
    "language_info": {
      "name": "python"
    }
  },
  "cells": [
    {
      "cell_type": "markdown",
      "source": [
        "**1. NumPy: Average exam scores**"
      ],
      "metadata": {
        "id": "UysskVvXuoQC"
      }
    },
    {
      "cell_type": "code",
      "execution_count": 6,
      "metadata": {
        "colab": {
          "base_uri": "https://localhost:8080/"
        },
        "id": "UyG5--EOuEVg",
        "outputId": "38a453f4-bfb8-43b5-f48f-219a183aa716"
      },
      "outputs": [
        {
          "output_type": "stream",
          "name": "stdout",
          "text": [
            "Enter the first set of scores (space-separated): 75 80 65 82 92\n",
            "Enter the second set of scores (space-separated): 88 85 75 95 73\n",
            "Average scores: [81.5 82.5 70.  88.5 82.5]\n",
            "Number of students who received 80 and above: 4\n"
          ]
        }
      ],
      "source": [
        "# TODO: Import NumPy\n",
        "import numpy as np\n",
        "\n",
        "# TODO: Read two sets of exam scores of five students from user input\n",
        "exam1 = np.array(list(map(int, input(\"Enter the first set of scores (space-separated): \").split())))\n",
        "exam2 = np.array(list(map(int, input(\"Enter the second set of scores (space-separated): \").split())))\n",
        "\n",
        "# TODO: Compute the average scores for each of the five students\n",
        "average_scores = (exam1 + exam2) / 2\n",
        "\n",
        "# TODO: Output \"Average scores: \" followed by the NumPy array of the average scores\n",
        "print(\"Average scores:\", average_scores)\n",
        "\n",
        "# TODO: Count the number of average scores that are >= 80\n",
        "count = np.sum(average_scores >= 80)\n",
        "\n",
        "# TODO: Output \"Number of students who received 80 and above: \" followed by the count\n",
        "print(\"Number of students who received 80 and above:\", count)\n"
      ]
    },
    {
      "cell_type": "markdown",
      "source": [
        "**2. Numpy: Curve student scores**"
      ],
      "metadata": {
        "id": "tI3xfEvIvsvw"
      }
    },
    {
      "cell_type": "code",
      "source": [
        "# TODO: Import NumPy\n",
        "import numpy as np\n",
        "\n",
        "# Input the file name\n",
        "file_name = input()\n",
        "\n",
        "# TODO: Load student scores from file_name into a NumPy array\n",
        "with open(file_name, 'r') as file:\n",
        "    scores = np.array(list(map(int, file.read().split())))\n",
        "\n",
        "# TODO: Calculate the median and average of student scores\n",
        "median = np.median(scores)\n",
        "average = np.mean(scores)\n",
        "\n",
        "# TODO: Curve student scores\n",
        "max_score = np.max(scores)\n",
        "curved_scores = scores + (100 - max_score)\n",
        "\n",
        "# TODO: Output the median, average, and curved scores\n",
        "print(f\"Median = {median:.2f}\")\n",
        "print(f\"Average = {average:.2f}\")\n",
        "print(f\"Curved scores = {curved_scores}\")\n"
      ],
      "metadata": {
        "colab": {
          "base_uri": "https://localhost:8080/"
        },
        "id": "5BrLVGDWvviX",
        "outputId": "07f75869-c975-43c5-ecc1-a7ddfa4126fe"
      },
      "execution_count": 5,
      "outputs": [
        {
          "output_type": "stream",
          "name": "stdout",
          "text": [
            "scores.txt\n",
            "Median = 73.00\n",
            "Average = 73.32\n",
            "Curved scores = [ 70  95  84  68  98  73  67  88  73 100  79  92 100  83  98  85 100  85\n",
            "  77  95  99  81  69  74  75]\n"
          ]
        }
      ]
    },
    {
      "cell_type": "markdown",
      "source": [
        "**3. Pandas: Course grade statistics**"
      ],
      "metadata": {
        "id": "YnZeucLFy7Ro"
      }
    },
    {
      "cell_type": "code",
      "source": [
        "import pandas as pd\n",
        "\n",
        "# Read the file name from user input\n",
        "file_name = input()\n",
        "\n",
        "# Read the .tsv file as a pandas dataframe\n",
        "df = pd.read_csv(file_name, sep='\\t')\n",
        "\n",
        "# Output the students' names and grades in descending order of Finals scores\n",
        "sorted_df = df.sort_values(by='Final', ascending=False)\n",
        "print(sorted_df.to_string(index=False))\n",
        "\n",
        "# Output the max score of each assignment\n",
        "print(\"\\nMax Scores:\")\n",
        "print(df.max(numeric_only=True).to_string())\n",
        "\n",
        "# Output the median score of each assignment\n",
        "print(\"\\nMedian Scores:\")\n",
        "print(df.median(numeric_only=True).to_string())\n",
        "\n",
        "# Output the average score of each assignment\n",
        "print(\"\\nAverage Scores:\")\n",
        "print(df.mean(numeric_only=True).to_string())\n",
        "\n",
        "# Output the standard deviation of each assignment\n",
        "print(\"\\nStandard Deviation:\")\n",
        "print(df.std(numeric_only=True).to_string())\n"
      ],
      "metadata": {
        "colab": {
          "base_uri": "https://localhost:8080/"
        },
        "id": "89exbjQPzAWv",
        "outputId": "d1646cd1-78f1-4b2b-ab18-d34e82de956b"
      },
      "execution_count": 7,
      "outputs": [
        {
          "output_type": "stream",
          "name": "stdout",
          "text": [
            "StudentInfo.tsv\n",
            "   Lname  Fname  Midterm1  Midterm2  Final\n",
            "Bradshaw Reagan        96        97     88\n",
            "Charlton  Caius        73        94     80\n",
            " Barrett   Edan        70        45     59\n",
            "   Stern Brenda        90        86     45\n",
            "    Mayo Tyrese        88        61     36\n",
            "\n",
            "Max Scores:\n",
            "Midterm1    96\n",
            "Midterm2    97\n",
            "Final       88\n",
            "\n",
            "Median Scores:\n",
            "Midterm1    88.0\n",
            "Midterm2    86.0\n",
            "Final       59.0\n",
            "\n",
            "Average Scores:\n",
            "Midterm1    83.4\n",
            "Midterm2    76.6\n",
            "Final       61.6\n",
            "\n",
            "Standard Deviation:\n",
            "Midterm1    11.304866\n",
            "Midterm2    22.634045\n",
            "Final       22.210358\n"
          ]
        }
      ]
    }
  ]
}